{
  "cells": [
    {
      "cell_type": "markdown",
      "metadata": {
        "id": "D0NMvNI7DY6O"
      },
      "source": [
        "Assign 8 (Lab 4): Transfer Learning with a CNN\n",
        "======================================\n",
        "\n",
        "This notebook has been adapted from the [PyTorch tutorial on transfer learning](https://pytorch.org/tutorials/beginner/transfer_learning_tutorial.html).\n",
        "Similar to the original tutorial, this one will demonstrate two different variations of transfer learning.\n",
        "\n",
        "As discussed in class, __[transfer learning](https://en.wikipedia.org/wiki/Transfer_learning)__ in machine learning is about utilizing an already-trained model for your specific problem or use case.\n",
        "\n",
        "Large neural networks can take a significant amount of resources to train, in terms of long training time,\n",
        "massive dataset size, and costly computer hardware. Given that, it's\n",
        "no surprise that we would want to avoid training a model from scratch. This is where transfer learning comes in.\n",
        "\n",
        "Transfer learning starts by taking a pre-trained neural network model that was trained to, say, predict which of\n",
        "1000 possible types of animals is in an image. This model is then used/repurposed/recycled to, say, predict which of two animals\n",
        "is in an image. Note that two types of animals that you want to perform classification on don't even need to be part of the original 1000 animals.\n",
        "\n",
        "There are two types of transfer learning techniques we'll try. Technically, we will be using the exact same model architecture with the pre-trained parameters, but they will be different instances of the model. We will refer to them as Approach A and Approach B. The differences are:\n",
        "\n",
        "-   **Approach A: Finetuning the ConvNet** - Start with the pre-trained model, change the final output layer to have only 2 units (or neurons), and then fine-tune or refit the model on our Ant and Bee images. All the parameter values can change.\n",
        "-   **Approach B: ConvNet as fixed feature extractor** - Again, start with the pre-trained model, change the final output layer to have only 2 units (or neurons), but this time only allow the parameter values in the (new) final layer to be modified.\n",
        "\n",
        "[![Open In Colab](https://colab.research.google.com/assets/colab-badge.svg)](https://colab.research.google.com/github/sgeinitz/CS3120/blob/main/lab4_transfer_learning.ipynb)\n",
        "\n",
        "[![Kaggle](https://kaggle.com/static/images/open-in-kaggle.svg)](https://kaggle.com/kernels/welcome?src=https://github.com/sgeinitz/CS3120/blob/main/lab4_transfer_learning.ipynb)"
      ]
    },
    {
      "cell_type": "code",
      "execution_count": null,
      "metadata": {
        "id": "libLYfLJDY6U"
      },
      "outputs": [],
      "source": [
        "import torch\n",
        "import torch.nn as nn\n",
        "import torch.optim as optim\n",
        "from torch.optim import lr_scheduler\n",
        "import torch.backends.cudnn as cudnn\n",
        "import numpy as np\n",
        "import torchvision\n",
        "from torchvision import datasets, models, transforms\n",
        "import matplotlib.pyplot as plt\n",
        "import time\n",
        "import os\n",
        "from PIL import Image\n",
        "from tempfile import TemporaryDirectory\n",
        "\n",
        "\n",
        "# For tips on running notebooks in Google Colab, see\n",
        "# https://pytorch.org/tutorials/beginner/colab\n",
        "%matplotlib inline\n",
        "\n",
        "cudnn.benchmark = True\n",
        "plt.ion()   # interactive mode"
      ]
    },
    {
      "cell_type": "code",
      "execution_count": null,
      "metadata": {
        "id": "mD1Uh-q1DY6V"
      },
      "outputs": [],
      "source": [
        "!git clone https://github.com/sgeinitz/CS3120.git"
      ]
    },
    {
      "cell_type": "markdown",
      "metadata": {
        "id": "DtcF6wGUDY6V"
      },
      "source": [
        "Load Data\n",
        "=========\n",
        "\n",
        "We will use torchvision and torch.utils.data packages for loading the\n",
        "data.\n",
        "\n",
        "The problem we\\'re going to solve today is to train a model to classify\n",
        "**ants** and **bees**. We have about 120 training images each for ants\n",
        "and bees. There are 75 validation images for each class.\n",
        "\n",
        "Trying to train a deep learning model from scratch with just one or two hundred images is not really possible.\n",
        "But, we're not going to train the deep learning model from scratch. Instead, we're going to use one that was already trained on millions\n",
        "of images to classify which of one-thousand (1000) possible categories the contents of the image falls into.\n",
        "We'll then going to fine tune the model for our specific problem of binary classification, namely: Bee or Ant (i.e, not Bee)).\n",
        "\n",
        "Since we are using transfer learning, and *not* training the model from scratch, one or two hundred images is plenty.\n",
        "\n",
        "\n",
        "\n",
        "NOTE: This is where `batch_size` is size (technically speaking, we're talking about the mini-batch size). Questions 3 and 4 below will ask you to come back\n",
        "and change this, but wait until you've run it one time with `batch_size=16` before changing it.\n"
      ]
    },
    {
      "cell_type": "code",
      "execution_count": null,
      "metadata": {
        "id": "y_Yyvs7iDY6V"
      },
      "outputs": [],
      "source": [
        "# Data augmentation and normalization for training\n",
        "# Just normalization for validation\n",
        "data_transforms = {\n",
        "    'train': transforms.Compose([\n",
        "        transforms.RandomResizedCrop(224),\n",
        "        transforms.RandomHorizontalFlip(),\n",
        "        transforms.ToTensor(),\n",
        "        transforms.Normalize([0.485, 0.456, 0.406], [0.229, 0.224, 0.225])\n",
        "    ]),\n",
        "    'val': transforms.Compose([\n",
        "        transforms.Resize(256),\n",
        "        transforms.CenterCrop(224),\n",
        "        transforms.ToTensor(),\n",
        "        transforms.Normalize([0.485, 0.456, 0.406], [0.229, 0.224, 0.225])\n",
        "    ]),\n",
        "}\n",
        "\n",
        "data_dir = 'CS3120/lab4_transfer_learning_images/hymenoptera'\n",
        "\n",
        "image_datasets = {x: datasets.ImageFolder(os.path.join(data_dir, x),\n",
        "                                          data_transforms[x])\n",
        "                  for x in ['train', 'val']}\n",
        "dataloaders = {x: torch.utils.data.DataLoader(image_datasets[x], batch_size=16,\n",
        "                                             shuffle=True, num_workers=2)\n",
        "              for x in ['train', 'val']}\n",
        "dataset_sizes = {x: len(image_datasets[x]) for x in ['train', 'val']}\n",
        "class_names = image_datasets['train'].classes\n",
        "\n",
        "# check for a GPU\n",
        "if torch.cuda.is_available():\n",
        "    device = torch.device(\"cuda:0\")\n",
        "# check for an Apple MPS device\n",
        "elif torch.backends.mps.is_available():\n",
        "    device = torch.device(\"mps\")\n",
        "# otherwise use the CPU\n",
        "else:\n",
        "    device = torch.device(\"cpu\")\n",
        "\n",
        "# print out which device is being used\n",
        "print(f\"Using device: {device}\")"
      ]
    },
    {
      "cell_type": "markdown",
      "metadata": {
        "id": "onkhxS9bDY6W"
      },
      "source": [
        "Examine a few Images\n",
        "======================\n",
        "\n",
        "Let\\'s visualize a few training images so as to understand the data\n",
        "augmentations."
      ]
    },
    {
      "cell_type": "code",
      "execution_count": null,
      "metadata": {
        "id": "XxhH85kLDY6W"
      },
      "outputs": [],
      "source": [
        "def imshow(inp, title=None):\n",
        "    \"\"\"Display image for Tensor.\"\"\"\n",
        "    inp = inp.numpy().transpose((1, 2, 0))\n",
        "    mean = np.array([0.485, 0.456, 0.406])\n",
        "    std = np.array([0.229, 0.224, 0.225])\n",
        "    inp = std * inp + mean\n",
        "    inp = np.clip(inp, 0, 1)\n",
        "    plt.imshow(inp)\n",
        "    if title is not None:\n",
        "        plt.title(title)\n",
        "    plt.pause(0.001)  # pause a bit so that plots are updated\n",
        "\n",
        "\n",
        "# Get a batch of training data\n",
        "inputs, classes = next(iter(dataloaders['train']))\n",
        "\n",
        "# Make a grid from batch\n",
        "out = torchvision.utils.make_grid(inputs)\n",
        "\n",
        "imshow(out, title=[class_names[x] for x in classes])"
      ]
    },
    {
      "cell_type": "markdown",
      "metadata": {
        "id": "SgdrnsEnDY6W"
      },
      "source": [
        "Training the model\n",
        "==================\n",
        "\n",
        "Now, let\\'s write a general function to train a model.\n",
        "\n",
        "Notice that in addition to using mini-batches, there is another so-called _trick_ we're using. Namely, the use\n",
        "of a __scheduler__ to modify the learning rate over time.\n",
        "\n",
        "In the following, parameter `scheduler` is a LR scheduler object from\n",
        "`torch.optim.lr_scheduler`. Right now it is only a a parameter in the `train_model` function, but you will see\n",
        "it declared/instantiated later on in this notebook.\n"
      ]
    },
    {
      "cell_type": "code",
      "execution_count": null,
      "metadata": {
        "id": "DeTgz1T5DY6X"
      },
      "outputs": [],
      "source": [
        "def train_model(model, criterion, optimizer, scheduler, num_epochs=25):\n",
        "    since = time.time()\n",
        "    b_losses = {'train':[], 'val':[]}\n",
        "    e_losses = {'train':[], 'val':[]}\n",
        "\n",
        "    # Create a temporary directory to save training checkpoints\n",
        "    with TemporaryDirectory() as tempdir:\n",
        "        best_model_params_path = os.path.join(tempdir, 'best_model_params.pt')\n",
        "\n",
        "        torch.save(model.state_dict(), best_model_params_path)\n",
        "        best_acc = 0.0\n",
        "\n",
        "        for epoch in range(num_epochs):\n",
        "            print(f'Epoch {epoch}/{num_epochs - 1}')\n",
        "\n",
        "            # Each epoch has a training and validation phase\n",
        "            for phase in ['train', 'val']:\n",
        "                if phase == 'train':\n",
        "                    model.train()  # Set model to training mode\n",
        "                else:\n",
        "                    model.eval()   # Set model to evaluate mode\n",
        "\n",
        "                running_loss = 0.0\n",
        "                running_corrects = 0\n",
        "\n",
        "                # Iterate over data.\n",
        "                for inputs, labels in dataloaders[phase]:\n",
        "                    inputs = inputs.to(device)\n",
        "                    labels = labels.to(device)\n",
        "\n",
        "                    # zero the parameter gradients\n",
        "                    optimizer.zero_grad()\n",
        "\n",
        "                    # forward\n",
        "                    # track history if only in train\n",
        "                    with torch.set_grad_enabled(phase == 'train'):\n",
        "                        outputs = model(inputs)\n",
        "                        _, preds = torch.max(outputs, 1)\n",
        "                        loss = criterion(outputs, labels)\n",
        "\n",
        "                        # backward + optimize only if in training phase\n",
        "                        if phase == 'train':\n",
        "                            loss.backward()\n",
        "                            optimizer.step()\n",
        "\n",
        "                    # statistics\n",
        "                    running_loss += loss.item() * inputs.size(0)\n",
        "                    running_corrects += torch.sum(preds == labels.data)\n",
        "                    b_losses[phase].append(loss.item())\n",
        "\n",
        "                if phase == 'train':\n",
        "                    scheduler.step()\n",
        "\n",
        "                epoch_loss = running_loss / dataset_sizes[phase]\n",
        "                epoch_acc = running_corrects.float() / dataset_sizes[phase]\n",
        "\n",
        "                # print loss and accuraacy every 4 epochs\n",
        "                if epoch % 4 == 0:\n",
        "                    print('-' * 10)\n",
        "                    print(f'{phase} Loss: {epoch_loss:.4f} Acc: {epoch_acc:.4f}')\n",
        "                # save loss for plotting later on\n",
        "                e_losses[phase].append(epoch_loss)\n",
        "\n",
        "                # deep copy the model\n",
        "                if phase == 'val' and epoch_acc > best_acc:\n",
        "                    best_acc = epoch_acc\n",
        "                    torch.save(model.state_dict(), best_model_params_path)\n",
        "\n",
        "            print()\n",
        "\n",
        "        time_elapsed = time.time() - since\n",
        "        print(f'Training complete in {time_elapsed // 60:.0f}m {time_elapsed % 60:.0f}s')\n",
        "        print(f'Best val Acc: {best_acc:4f}')\n",
        "\n",
        "        # load best model weights\n",
        "        model.load_state_dict(torch.load(best_model_params_path, weights_only=True))\n",
        "    return model, e_losses, b_losses"
      ]
    },
    {
      "cell_type": "markdown",
      "metadata": {
        "id": "ez58-4OoDY6X"
      },
      "source": [
        "Visualizing the model predictions\n",
        "=================================\n",
        "\n",
        "Generic function to display predictions for a few images\n"
      ]
    },
    {
      "cell_type": "code",
      "execution_count": null,
      "metadata": {
        "id": "T3tvylL2DY6X"
      },
      "outputs": [],
      "source": [
        "def visualize_model(model, num_images=6):\n",
        "    was_training = model.training\n",
        "    model.eval()\n",
        "    images_so_far = 0\n",
        "    fig = plt.figure()\n",
        "\n",
        "    with torch.no_grad():\n",
        "        for i, (inputs, labels) in enumerate(dataloaders['val']):\n",
        "            inputs = inputs.to(device)\n",
        "            labels = labels.to(device)\n",
        "\n",
        "            outputs = model(inputs)\n",
        "            _, preds = torch.max(outputs, 1)\n",
        "\n",
        "            for j in range(inputs.size()[0]):\n",
        "                images_so_far += 1\n",
        "                ax = plt.subplot(num_images//2, 2, images_so_far)\n",
        "                ax.axis('off')\n",
        "                ax.set_title(f'predicted: {class_names[preds[j]]}')\n",
        "                imshow(inputs.cpu().data[j])\n",
        "\n",
        "                if images_so_far == num_images:\n",
        "                    model.train(mode=was_training)\n",
        "                    return\n",
        "        model.train(mode=was_training)"
      ]
    },
    {
      "cell_type": "markdown",
      "metadata": {
        "id": "z3C7OCDzDY6X"
      },
      "source": [
        "Approach A: Finetuning the ConvNet\n",
        "======================\n",
        "\n",
        "Load a pretrained model and reset final fully connected layer.\n",
        "\n",
        "This is also where we create instances of the `optimizer` and `scheduler` objects, both of which are then passed into\n",
        "the `train_model` function as parameters."
      ]
    },
    {
      "cell_type": "code",
      "execution_count": null,
      "metadata": {
        "id": "q673weNWDY6X"
      },
      "outputs": [],
      "source": [
        "model_ft = models.resnet18(weights='IMAGENET1K_V1')\n",
        "num_ftrs = model_ft.fc.in_features\n",
        "\n",
        "# Here the size of each output sample is set to 2.\n",
        "# In general, this could be written as ``nn.Linear(num_ftrs, len(class_names))``.\n",
        "model_ft.fc = nn.Linear(num_ftrs, 2)\n",
        "\n",
        "model_ft = model_ft.to(device)\n",
        "\n",
        "criterion = nn.CrossEntropyLoss()\n",
        "\n",
        "# Observe that all parameters are being optimized\n",
        "optimizer_ft = optim.SGD(model_ft.parameters(), lr=0.001, momentum=0.9)\n",
        "\n",
        "# Decay LR by a factor of 0.1 every 7 epochs\n",
        "exp_lr_scheduler = lr_scheduler.StepLR(optimizer_ft, step_size=7, gamma=0.1)"
      ]
    },
    {
      "cell_type": "markdown",
      "metadata": {
        "id": "QFUrWb7BDY6X"
      },
      "source": [
        "Train and evaluate\n",
        "==================\n",
        "\n",
        "This will take 1-2 minutes on a GPU, or around 20-25 minutes with a CPU.\n"
      ]
    },
    {
      "cell_type": "code",
      "execution_count": null,
      "metadata": {
        "id": "Zp_cD5vjDY6X"
      },
      "outputs": [],
      "source": [
        "model_ft, epoch_losses, batch_losses = train_model(model_ft, criterion, optimizer_ft, exp_lr_scheduler, num_epochs=25)"
      ]
    },
    {
      "cell_type": "code",
      "execution_count": null,
      "metadata": {
        "id": "ZxfyZhw4KGmR"
      },
      "outputs": [],
      "source": [
        "# plot the loss curves\n",
        "plt.figure(figsize=(8, 3))\n",
        "plt.plot(range(len(epoch_losses['train'])), epoch_losses['train'], c='blue', linewidth=0.5)\n",
        "plt.plot(range(len(epoch_losses['val'])), epoch_losses['val'], c='orange', linewidth=0.5)\n",
        "plt.ylabel('Loss')\n",
        "plt.xlabel('Epoch')\n",
        "plt.legend(('Train','Validation'))"
      ]
    },
    {
      "cell_type": "code",
      "execution_count": null,
      "metadata": {
        "id": "wpD5UAxKFmdI"
      },
      "outputs": [],
      "source": [
        "# plot the loss curves for each (mini) batch\n",
        "plt.figure(figsize=(12, 3))\n",
        "val_ticks = [(i)*len(batch_losses['train'])/len(batch_losses['val']) for i in range(len(batch_losses['val']))]\n",
        "plt.plot(range(len(batch_losses['train'])), batch_losses['train'], c='blue', linewidth=0.5)\n",
        "plt.plot(val_ticks, batch_losses['val'], c='orange', linewidth=0.5)\n",
        "for i in range(25):\n",
        "    plt.axvline(x=i*len(batch_losses['train'])/25, c='black', lw=0.25)\n",
        "plt.ylabel('Loss')\n",
        "plt.xlabel('Epoch and Batch')\n",
        "plt.legend(('Train','Validation'))"
      ]
    },
    {
      "cell_type": "code",
      "execution_count": null,
      "metadata": {
        "id": "f5w7gB1PDY6X"
      },
      "outputs": [],
      "source": [
        "visualize_model(model_ft)"
      ]
    },
    {
      "cell_type": "markdown",
      "metadata": {
        "id": "V5kx7FKdDY6Y"
      },
      "source": [
        "Approach B: ConvNet as fixed feature extractor\n",
        "==================================\n",
        "\n",
        "Here, we need to freeze all the network except the final layer. We need\n",
        "to set `requires_grad = False` to freeze the parameters so that the\n",
        "gradients are not computed in `backward()`.\n",
        "\n",
        "You can read more about this in the documentation\n",
        "[here](https://pytorch.org/docs/notes/autograd.html#excluding-subgraphs-from-backward).\n"
      ]
    },
    {
      "cell_type": "code",
      "execution_count": null,
      "metadata": {
        "id": "AI76_I5XDY6Y"
      },
      "outputs": [],
      "source": [
        "model_conv = torchvision.models.resnet18(weights='IMAGENET1K_V1')\n",
        "for param in model_conv.parameters():\n",
        "    param.requires_grad = False\n",
        "\n",
        "# Parameters of newly constructed modules have requires_grad=True by default\n",
        "num_ftrs = model_conv.fc.in_features\n",
        "model_conv.fc = nn.Linear(num_ftrs, 2)\n",
        "\n",
        "model_conv = model_conv.to(device)\n",
        "\n",
        "criterion = nn.CrossEntropyLoss()\n",
        "\n",
        "# Observe that only parameters of final layer are being optimized as\n",
        "# opposed to before.\n",
        "optimizer_conv = optim.SGD(model_conv.fc.parameters(), lr=0.001, momentum=0.9)\n",
        "\n",
        "# Decay LR by a factor of 0.1 every 7 epochs\n",
        "exp_lr_scheduler = lr_scheduler.StepLR(optimizer_conv, step_size=7, gamma=0.1)"
      ]
    },
    {
      "cell_type": "markdown",
      "metadata": {
        "id": "kigxc69kDY6Y"
      },
      "source": [
        "Train and evaluate\n",
        "==================\n",
        "\n",
        "Now use `train_model` again, but with the above model object, which has frozen all the parameters except for those in the final layer.\n",
        "\n",
        "***\n",
        "### Q1: Will this run faster or slower than the earlier training run? Explain why or why not?\n",
        "\n",
        "\\<INPUT YOUR ANSWER TO Q1 HERE\\>\n",
        "***"
      ]
    },
    {
      "cell_type": "code",
      "execution_count": null,
      "metadata": {
        "id": "YTNaEJ8fDY6Y"
      },
      "outputs": [],
      "source": [
        "model_conv, epoch_losses, batch_losses = train_model(model_conv, criterion, optimizer_conv, exp_lr_scheduler, num_epochs=25)"
      ]
    },
    {
      "cell_type": "code",
      "execution_count": null,
      "metadata": {
        "id": "jBCsN9ioLiDT"
      },
      "outputs": [],
      "source": [
        "# plot the loss curves\n",
        "plt.figure(figsize=(8, 3))\n",
        "plt.plot(range(len(epoch_losses['train'])), epoch_losses['train'], c='blue', linewidth=0.5)\n",
        "plt.plot(range(len(epoch_losses['val'])), epoch_losses['val'], c='orange', linewidth=0.5)\n",
        "plt.ylabel('Loss')\n",
        "plt.xlabel('Epoch')\n",
        "plt.legend(('Train','Validation'))"
      ]
    },
    {
      "cell_type": "code",
      "execution_count": null,
      "metadata": {
        "id": "FJuyIemALpYB"
      },
      "outputs": [],
      "source": [
        "# plot the loss curves for each (mini) batch\n",
        "plt.figure(figsize=(12, 3))\n",
        "val_ticks = [(i)*len(batch_losses['train'])/len(batch_losses['val']) for i in range(len(batch_losses['val']))]\n",
        "plt.plot(range(len(batch_losses['train'])), batch_losses['train'], c='blue', linewidth=0.5)\n",
        "plt.plot(val_ticks, batch_losses['val'], c='orange', linewidth=0.5)\n",
        "for i in range(25):\n",
        "    plt.axvline(x=i*len(batch_losses['train'])/25, c='black', lw=0.25)\n",
        "plt.ylabel('Loss')\n",
        "plt.xlabel('Batch')\n",
        "plt.legend(('Train','Validation'))"
      ]
    },
    {
      "cell_type": "code",
      "execution_count": null,
      "metadata": {
        "id": "IccF-NBIDY6Y"
      },
      "outputs": [],
      "source": [
        "visualize_model(model_conv)\n",
        "\n",
        "plt.ioff()\n",
        "plt.show()"
      ]
    },
    {
      "cell_type": "markdown",
      "metadata": {
        "id": "Mq-3nK0-47db"
      },
      "source": [
        "***\n",
        "### Q2: Which of the two approaches worked best (in terms of validation accuracy)? Approach A or Approach B? Explain why you think this might be?\n",
        "\n",
        "\\<INPUT YOUR ANSWER TO Q2 HERE\\>\n",
        "***"
      ]
    },
    {
      "cell_type": "markdown",
      "metadata": {
        "id": "xcsc9WEN47db"
      },
      "source": [
        "***\n",
        "### Q3: Change the batch size from 16 to 32 and then re-run both model training runs. How does this change the training and performance?\n",
        "\n",
        "\\<INPUT YOUR ANSWER TO Q3 HERE\\>\n",
        "***\n",
        "\n",
        "\n"
      ]
    },
    {
      "cell_type": "markdown",
      "metadata": {
        "id": "tEbZXbG147dc"
      },
      "source": [
        "***\n",
        "### Q4: Change the batch size from 32 to 4 and then re-run both model training runs. How does this change the training and performance?  Also comment on whether there are now more or less mini-batches.\n",
        "\n",
        "\\<INPUT YOUR ANSWER TO Q4 HERE\\>\n",
        "***"
      ]
    },
    {
      "cell_type": "markdown",
      "metadata": {
        "id": "L5nr1UQ947dc"
      },
      "source": [
        "***\n",
        "### Q5: Look at the loss curves when the batch size was 32 and compare them to when the batch size of 4. For which batch size were the loss curves more bumpy or jagged? Explain why this is?  \n",
        "\n",
        "\\<INPUT YOUR ANSWER TO Q5 HERE\\>\n",
        "***"
      ]
    },
    {
      "cell_type": "markdown",
      "metadata": {
        "id": "xHdZqp-ADY6Y"
      },
      "source": [
        "Inference on one Images\n",
        "==========================\n",
        "\n",
        "Use the trained model to make predictions on custom images and visualize\n",
        "the predicted class labels along with the images.\n"
      ]
    },
    {
      "cell_type": "code",
      "execution_count": null,
      "metadata": {
        "id": "ydz-nez7DY6Y"
      },
      "outputs": [],
      "source": [
        "def visualize_model_predictions(model,img_path):\n",
        "    was_training = model.training\n",
        "    model.eval()\n",
        "\n",
        "    img = Image.open(img_path)\n",
        "    img = data_transforms['val'](img)\n",
        "    img = img.unsqueeze(0)\n",
        "    img = img.to(device)\n",
        "\n",
        "    with torch.no_grad():\n",
        "        outputs = model(img)\n",
        "        _, preds = torch.max(outputs, 1)\n",
        "\n",
        "        ax = plt.subplot(2,2,1)\n",
        "        ax.axis('off')\n",
        "        ax.set_title(f'Predicted: {class_names[preds[0]]}')\n",
        "        imshow(img.cpu().data[0])\n",
        "\n",
        "        model.train(mode=was_training)"
      ]
    },
    {
      "cell_type": "code",
      "execution_count": null,
      "metadata": {
        "id": "4JZqCpdSDY6Y"
      },
      "outputs": [],
      "source": [
        "visualize_model_predictions(\n",
        "    model_conv,\n",
        "    img_path='CS3120/lab4_transfer_learning_images/hymenoptera/val/bees/72100438_73de9f17af.jpg'\n",
        ")\n",
        "\n",
        "plt.ioff()\n",
        "plt.show()"
      ]
    }
  ],
  "metadata": {
    "accelerator": "GPU",
    "colab": {
      "gpuType": "T4",
      "provenance": []
    },
    "kernelspec": {
      "display_name": "Python 3",
      "name": "python3"
    },
    "language_info": {
      "codemirror_mode": {
        "name": "ipython",
        "version": 3
      },
      "file_extension": ".py",
      "mimetype": "text/x-python",
      "name": "python",
      "nbconvert_exporter": "python",
      "pygments_lexer": "ipython3",
      "version": "3.9.13"
    }
  },
  "nbformat": 4,
  "nbformat_minor": 0
}